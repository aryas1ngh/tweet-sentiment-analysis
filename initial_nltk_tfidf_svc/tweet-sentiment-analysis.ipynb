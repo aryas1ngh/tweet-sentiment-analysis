{
 "cells": [
  {
   "cell_type": "code",
   "execution_count": 1,
   "id": "9151ef7c",
   "metadata": {},
   "outputs": [],
   "source": [
    "import numpy as np\n",
    "import pandas as pd\n",
    "import seaborn as sns\n",
    "import matplotlib.pyplot as plt\n",
    "from nltk.stem import WordNetLemmatizer"
   ]
  },
  {
   "cell_type": "code",
   "execution_count": 2,
   "id": "149990eb",
   "metadata": {},
   "outputs": [],
   "source": [
    "df = pd.read_csv('tweets.csv', \n",
    "                 encoding = \"ISO-8859-1\", \n",
    "                 names = ['target','id','datetime','flag','user','text'])"
   ]
  },
  {
   "cell_type": "code",
   "execution_count": 3,
   "id": "a80076cc",
   "metadata": {},
   "outputs": [
    {
     "data": {
      "text/html": [
       "<div>\n",
       "<style scoped>\n",
       "    .dataframe tbody tr th:only-of-type {\n",
       "        vertical-align: middle;\n",
       "    }\n",
       "\n",
       "    .dataframe tbody tr th {\n",
       "        vertical-align: top;\n",
       "    }\n",
       "\n",
       "    .dataframe thead th {\n",
       "        text-align: right;\n",
       "    }\n",
       "</style>\n",
       "<table border=\"1\" class=\"dataframe\">\n",
       "  <thead>\n",
       "    <tr style=\"text-align: right;\">\n",
       "      <th></th>\n",
       "      <th>target</th>\n",
       "      <th>id</th>\n",
       "      <th>datetime</th>\n",
       "      <th>flag</th>\n",
       "      <th>user</th>\n",
       "      <th>text</th>\n",
       "    </tr>\n",
       "  </thead>\n",
       "  <tbody>\n",
       "    <tr>\n",
       "      <th>0</th>\n",
       "      <td>0</td>\n",
       "      <td>1467810369</td>\n",
       "      <td>Mon Apr 06 22:19:45 PDT 2009</td>\n",
       "      <td>NO_QUERY</td>\n",
       "      <td>_TheSpecialOne_</td>\n",
       "      <td>@switchfoot http://twitpic.com/2y1zl - Awww, t...</td>\n",
       "    </tr>\n",
       "    <tr>\n",
       "      <th>1</th>\n",
       "      <td>0</td>\n",
       "      <td>1467810672</td>\n",
       "      <td>Mon Apr 06 22:19:49 PDT 2009</td>\n",
       "      <td>NO_QUERY</td>\n",
       "      <td>scotthamilton</td>\n",
       "      <td>is upset that he can't update his Facebook by ...</td>\n",
       "    </tr>\n",
       "    <tr>\n",
       "      <th>2</th>\n",
       "      <td>0</td>\n",
       "      <td>1467810917</td>\n",
       "      <td>Mon Apr 06 22:19:53 PDT 2009</td>\n",
       "      <td>NO_QUERY</td>\n",
       "      <td>mattycus</td>\n",
       "      <td>@Kenichan I dived many times for the ball. Man...</td>\n",
       "    </tr>\n",
       "    <tr>\n",
       "      <th>3</th>\n",
       "      <td>0</td>\n",
       "      <td>1467811184</td>\n",
       "      <td>Mon Apr 06 22:19:57 PDT 2009</td>\n",
       "      <td>NO_QUERY</td>\n",
       "      <td>ElleCTF</td>\n",
       "      <td>my whole body feels itchy and like its on fire</td>\n",
       "    </tr>\n",
       "    <tr>\n",
       "      <th>4</th>\n",
       "      <td>0</td>\n",
       "      <td>1467811193</td>\n",
       "      <td>Mon Apr 06 22:19:57 PDT 2009</td>\n",
       "      <td>NO_QUERY</td>\n",
       "      <td>Karoli</td>\n",
       "      <td>@nationwideclass no, it's not behaving at all....</td>\n",
       "    </tr>\n",
       "  </tbody>\n",
       "</table>\n",
       "</div>"
      ],
      "text/plain": [
       "   target          id                      datetime      flag  \\\n",
       "0       0  1467810369  Mon Apr 06 22:19:45 PDT 2009  NO_QUERY   \n",
       "1       0  1467810672  Mon Apr 06 22:19:49 PDT 2009  NO_QUERY   \n",
       "2       0  1467810917  Mon Apr 06 22:19:53 PDT 2009  NO_QUERY   \n",
       "3       0  1467811184  Mon Apr 06 22:19:57 PDT 2009  NO_QUERY   \n",
       "4       0  1467811193  Mon Apr 06 22:19:57 PDT 2009  NO_QUERY   \n",
       "\n",
       "              user                                               text  \n",
       "0  _TheSpecialOne_  @switchfoot http://twitpic.com/2y1zl - Awww, t...  \n",
       "1    scotthamilton  is upset that he can't update his Facebook by ...  \n",
       "2         mattycus  @Kenichan I dived many times for the ball. Man...  \n",
       "3          ElleCTF    my whole body feels itchy and like its on fire   \n",
       "4           Karoli  @nationwideclass no, it's not behaving at all....  "
      ]
     },
     "execution_count": 3,
     "metadata": {},
     "output_type": "execute_result"
    }
   ],
   "source": [
    "df.head()"
   ]
  },
  {
   "cell_type": "code",
   "execution_count": 4,
   "id": "4eaf96e4",
   "metadata": {},
   "outputs": [
    {
     "name": "stdout",
     "output_type": "stream",
     "text": [
      "<class 'pandas.core.frame.DataFrame'>\n",
      "RangeIndex: 1600000 entries, 0 to 1599999\n",
      "Data columns (total 6 columns):\n",
      " #   Column    Non-Null Count    Dtype \n",
      "---  ------    --------------    ----- \n",
      " 0   target    1600000 non-null  int64 \n",
      " 1   id        1600000 non-null  int64 \n",
      " 2   datetime  1600000 non-null  object\n",
      " 3   flag      1600000 non-null  object\n",
      " 4   user      1600000 non-null  object\n",
      " 5   text      1600000 non-null  object\n",
      "dtypes: int64(2), object(4)\n",
      "memory usage: 73.2+ MB\n"
     ]
    }
   ],
   "source": [
    "df.info()"
   ]
  },
  {
   "cell_type": "code",
   "execution_count": 5,
   "id": "7ca1257a",
   "metadata": {},
   "outputs": [
    {
     "data": {
      "text/plain": [
       "array([0, 4], dtype=int64)"
      ]
     },
     "execution_count": 5,
     "metadata": {},
     "output_type": "execute_result"
    }
   ],
   "source": [
    "df['target'].unique()"
   ]
  },
  {
   "cell_type": "markdown",
   "id": "455d2bf0",
   "metadata": {},
   "source": [
    "Let us encode it to 0 and 1."
   ]
  },
  {
   "cell_type": "code",
   "execution_count": 6,
   "id": "c46cb2d0",
   "metadata": {},
   "outputs": [
    {
     "data": {
      "text/plain": [
       "array([0, 1], dtype=int64)"
      ]
     },
     "execution_count": 6,
     "metadata": {},
     "output_type": "execute_result"
    }
   ],
   "source": [
    "df['target'] = df['target'].replace(4,1)\n",
    "df['target'].unique()"
   ]
  },
  {
   "cell_type": "code",
   "execution_count": 7,
   "id": "0d46f025",
   "metadata": {},
   "outputs": [
    {
     "data": {
      "text/plain": [
       "<AxesSubplot:xlabel='target', ylabel='count'>"
      ]
     },
     "execution_count": 7,
     "metadata": {},
     "output_type": "execute_result"
    },
    {
     "data": {
      "image/png": "[encoded data removed]",
      "text/plain": [
       "<Figure size 432x288 with 1 Axes>"
      ]
     },
     "metadata": {
      "needs_background": "light"
     },
     "output_type": "display_data"
    }
   ],
   "source": [
    "sns.countplot(x='target', data=df)"
   ]
  },
  {
   "cell_type": "markdown",
   "id": "4efa0b98",
   "metadata": {},
   "source": [
    "Data shows equal distribution of negative and positive targets."
   ]
  },
  {
   "cell_type": "code",
   "execution_count": 8,
   "id": "5086c2de",
   "metadata": {},
   "outputs": [
    {
     "data": {
      "image/png": "[encoded data removed]",
      "text/plain": [
       "<Figure size 432x288 with 1 Axes>"
      ]
     },
     "metadata": {
      "needs_background": "light"
     },
     "output_type": "display_data"
    }
   ],
   "source": [
    "ax = df.groupby('target').count().plot(kind='bar', title='Sentiment',legend=False)\n",
    "ax.set_xticklabels(['Negative','Positive'], rotation=0)\n",
    "text, sentiment = list(df['text']), list(df['target'])"
   ]
  },
  {
   "cell_type": "code",
   "execution_count": 9,
   "id": "a730834a",
   "metadata": {},
   "outputs": [
    {
     "data": {
      "text/html": [
       "<div>\n",
       "<style scoped>\n",
       "    .dataframe tbody tr th:only-of-type {\n",
       "        vertical-align: middle;\n",
       "    }\n",
       "\n",
       "    .dataframe tbody tr th {\n",
       "        vertical-align: top;\n",
       "    }\n",
       "\n",
       "    .dataframe thead th {\n",
       "        text-align: right;\n",
       "    }\n",
       "</style>\n",
       "<table border=\"1\" class=\"dataframe\">\n",
       "  <thead>\n",
       "    <tr style=\"text-align: right;\">\n",
       "      <th></th>\n",
       "      <th>text</th>\n",
       "      <th>target</th>\n",
       "    </tr>\n",
       "  </thead>\n",
       "  <tbody>\n",
       "    <tr>\n",
       "      <th>153553</th>\n",
       "      <td>oooh headache starting... too much computer ma...</td>\n",
       "      <td>0</td>\n",
       "    </tr>\n",
       "    <tr>\n",
       "      <th>868312</th>\n",
       "      <td>@smittnbybritain make sure save me some - yum</td>\n",
       "      <td>1</td>\n",
       "    </tr>\n",
       "    <tr>\n",
       "      <th>1452910</th>\n",
       "      <td>@mariekccberry im one of the lucky few who got...</td>\n",
       "      <td>1</td>\n",
       "    </tr>\n",
       "    <tr>\n",
       "      <th>1474969</th>\n",
       "      <td>most of my followers must be at church this mo...</td>\n",
       "      <td>1</td>\n",
       "    </tr>\n",
       "    <tr>\n",
       "      <th>1364649</th>\n",
       "      <td>utah tomorrow  i want it to be june 26th or ju...</td>\n",
       "      <td>1</td>\n",
       "    </tr>\n",
       "    <tr>\n",
       "      <th>459151</th>\n",
       "      <td>laying with boozer cuddling then bed... we jus...</td>\n",
       "      <td>0</td>\n",
       "    </tr>\n",
       "    <tr>\n",
       "      <th>1199527</th>\n",
       "      <td>watching the hills finale and then the mtv mov...</td>\n",
       "      <td>1</td>\n",
       "    </tr>\n",
       "  </tbody>\n",
       "</table>\n",
       "</div>"
      ],
      "text/plain": [
       "                                                      text  target\n",
       "153553   oooh headache starting... too much computer ma...       0\n",
       "868312      @smittnbybritain make sure save me some - yum        1\n",
       "1452910  @mariekccberry im one of the lucky few who got...       1\n",
       "1474969  most of my followers must be at church this mo...       1\n",
       "1364649  utah tomorrow  i want it to be june 26th or ju...       1\n",
       "459151   laying with boozer cuddling then bed... we jus...       0\n",
       "1199527  watching the hills finale and then the mtv mov...       1"
      ]
     },
     "execution_count": 9,
     "metadata": {},
     "output_type": "execute_result"
    }
   ],
   "source": [
    "text_target = df[['text','target']]\n",
    "pos = text_target[text_target['target'] == 1]\n",
    "neg = text_target[text_target['target'] == 0]\n",
    "df_new = pd.concat([pos, neg])\n",
    "df_new['text']=df_new['text'].str.lower()\n",
    "\n",
    "df_new.sample(7)"
   ]
  },
  {
   "cell_type": "markdown",
   "id": "943be4a7",
   "metadata": {},
   "source": [
    "Now, we perform stopwords and punctuation removal as usual using nltk."
   ]
  },
  {
   "cell_type": "code",
   "execution_count": 10,
   "id": "38ecfb92",
   "metadata": {},
   "outputs": [
    {
     "data": {
      "text/html": [
       "<div>\n",
       "<style scoped>\n",
       "    .dataframe tbody tr th:only-of-type {\n",
       "        vertical-align: middle;\n",
       "    }\n",
       "\n",
       "    .dataframe tbody tr th {\n",
       "        vertical-align: top;\n",
       "    }\n",
       "\n",
       "    .dataframe thead th {\n",
       "        text-align: right;\n",
       "    }\n",
       "</style>\n",
       "<table border=\"1\" class=\"dataframe\">\n",
       "  <thead>\n",
       "    <tr style=\"text-align: right;\">\n",
       "      <th></th>\n",
       "      <th>text</th>\n",
       "      <th>target</th>\n",
       "    </tr>\n",
       "  </thead>\n",
       "  <tbody>\n",
       "    <tr>\n",
       "      <th>914808</th>\n",
       "      <td>@thej cong govt ruling karnataka, cauvery foun...</td>\n",
       "      <td>1</td>\n",
       "    </tr>\n",
       "    <tr>\n",
       "      <th>639682</th>\n",
       "      <td>@mario_nyc lol over-protective big brother_nyc...</td>\n",
       "      <td>0</td>\n",
       "    </tr>\n",
       "    <tr>\n",
       "      <th>553908</th>\n",
       "      <td>@petewentz i'm not, could talk me. no-one talk...</td>\n",
       "      <td>0</td>\n",
       "    </tr>\n",
       "    <tr>\n",
       "      <th>1362088</th>\n",
       "      <td>@supershara heeh yuppers lots traveling spread...</td>\n",
       "      <td>1</td>\n",
       "    </tr>\n",
       "    <tr>\n",
       "      <th>1453752</th>\n",
       "      <td>@jazzjeppe good morning sunshine! â« http://b...</td>\n",
       "      <td>1</td>\n",
       "    </tr>\n",
       "    <tr>\n",
       "      <th>270732</th>\n",
       "      <td>oh monday morning! headache</td>\n",
       "      <td>0</td>\n",
       "    </tr>\n",
       "    <tr>\n",
       "      <th>675342</th>\n",
       "      <td>really sick ferret, i'm scared</td>\n",
       "      <td>0</td>\n",
       "    </tr>\n",
       "  </tbody>\n",
       "</table>\n",
       "</div>"
      ],
      "text/plain": [
       "                                                      text  target\n",
       "914808   @thej cong govt ruling karnataka, cauvery foun...       1\n",
       "639682   @mario_nyc lol over-protective big brother_nyc...       0\n",
       "553908   @petewentz i'm not, could talk me. no-one talk...       0\n",
       "1362088  @supershara heeh yuppers lots traveling spread...       1\n",
       "1453752  @jazzjeppe good morning sunshine! â« http://b...       1\n",
       "270732                         oh monday morning! headache       0\n",
       "675342                      really sick ferret, i'm scared       0"
      ]
     },
     "execution_count": 10,
     "metadata": {},
     "output_type": "execute_result"
    }
   ],
   "source": [
    "from nltk.corpus import stopwords\n",
    "stopWords = set(stopwords.words('english'))\n",
    "def removeStopWords(text):\n",
    "    return \" \".join([i for i in str(text).split() if i not in stopWords])\n",
    "\n",
    "df_new['text'] = df_new['text'].apply(lambda text: removeStopWords(text))\n",
    "df_new.sample(7)"
   ]
  },
  {
   "cell_type": "code",
   "execution_count": 11,
   "id": "e1275955",
   "metadata": {},
   "outputs": [
    {
     "data": {
      "text/plain": [
       "734841                                     hands peeeeeeeely\n",
       "321245     longer writing article costco connection je su...\n",
       "300248                                        cant take hurt\n",
       "1216107                       hanlie thank you wait next one\n",
       "1384582                        im really depressed right now\n",
       "485966     thereasonwhy hope car gets fixed soon gotta dr...\n",
       "289891     thehoosiersuk aww poor peanut hope everything ...\n",
       "Name: text, dtype: object"
      ]
     },
     "execution_count": 11,
     "metadata": {},
     "output_type": "execute_result"
    }
   ],
   "source": [
    "import string\n",
    "punc_list = string.punctuation\n",
    "\n",
    "def removePunc(text):\n",
    "    transl = str.maketrans('', '', punc_list)\n",
    "    return text.translate(transl)\n",
    "\n",
    "df_new['text']= df_new['text'].apply(lambda x: removePunc(x))\n",
    "df_new['text'].sample(7)"
   ]
  },
  {
   "cell_type": "markdown",
   "id": "060a364b",
   "metadata": {},
   "source": [
    "We will now use regex to remove any hyperlinks/URLs and numbers in the tweets as they can mistrain the model."
   ]
  },
  {
   "cell_type": "code",
   "execution_count": 12,
   "id": "84265f60",
   "metadata": {},
   "outputs": [
    {
     "data": {
      "text/plain": [
       "622308                               dude bringing memories\n",
       "487216     donniewahlberg really sucks u guys cant go under\n",
       "801445    drbaher love list tick people off actually qui...\n",
       "600840    heard today shop worked last month closing wit...\n",
       "273846    elizabethrose way totally expecting behind ene...\n",
       "437502    owww stretching think pulled effing muscle rig...\n",
       "338595    charleybum sorry late reply drama camp haha na...\n",
       "Name: text, dtype: object"
      ]
     },
     "execution_count": 12,
     "metadata": {},
     "output_type": "execute_result"
    }
   ],
   "source": [
    "import re\n",
    "def removeHyperLinks(data):\n",
    "    return re.sub('((www.[^s]+)|(https?://[^s]+))',' ',data)\n",
    "def removeNumbers(data):\n",
    "    return re.sub('[0-9]+', '', data)\n",
    "\n",
    "df_new['text'] = df_new['text'].apply(lambda x: removeHyperLinks(x))\n",
    "df_new['text'] = df_new['text'].apply(lambda x: removeNumbers(x))\n",
    "df_new['text'].sample(7)"
   ]
  },
  {
   "cell_type": "markdown",
   "id": "8420c0a8",
   "metadata": {},
   "source": [
    "Now that text processing is done, we will tokenize the text and perform stemming and lemmatizing. "
   ]
  },
  {
   "cell_type": "code",
   "execution_count": 13,
   "id": "94acb62f",
   "metadata": {},
   "outputs": [
    {
     "data": {
      "text/plain": [
       "1322319    [w, w, w, w]\n",
       "501215               []\n",
       "561319               []\n",
       "320946              [w]\n",
       "916409               []\n",
       "354640               []\n",
       "1548872       [w, w, w]\n",
       "Name: text, dtype: object"
      ]
     },
     "execution_count": 13,
     "metadata": {},
     "output_type": "execute_result"
    }
   ],
   "source": [
    "from nltk.tokenize import RegexpTokenizer\n",
    "tkz = RegexpTokenizer(r'w+')\n",
    "df_new['text'] = df_new['text'].apply(tkz.tokenize)\n",
    "df_new['text'].sample(7)"
   ]
  },
  {
   "cell_type": "code",
   "execution_count": 14,
   "id": "ae9f9800",
   "metadata": {},
   "outputs": [
    {
     "data": {
      "text/plain": [
       "1410119       [w, w]\n",
       "305681            []\n",
       "1221440       [w, w]\n",
       "1356775          [w]\n",
       "179533           [w]\n",
       "818442           [w]\n",
       "276790     [w, w, w]\n",
       "Name: text, dtype: object"
      ]
     },
     "execution_count": 14,
     "metadata": {},
     "output_type": "execute_result"
    }
   ],
   "source": [
    "import nltk\n",
    "ps = nltk.PorterStemmer()\n",
    "def textStem(text):\n",
    "    stem_text = [ps.stem(i) for i in text]\n",
    "    return text\n",
    "\n",
    "wnl = nltk.WordNetLemmatizer()\n",
    "def textLemmatize(text):\n",
    "    lemma_text = [wnl.lemmatize(i) for i in text]\n",
    "    return text\n",
    "\n",
    "df_new['text']= df_new['text'].apply(lambda x: textStem(x))\n",
    "df_new['text'] = df_new['text'].apply(lambda x: textLemmatize(x))\n",
    "df_new['text'].sample(7)"
   ]
  },
  {
   "cell_type": "markdown",
   "id": "484e051b",
   "metadata": {},
   "source": [
    "Now, we will finally train some models using train and test data."
   ]
  },
  {
   "cell_type": "code",
   "execution_count": 15,
   "id": "8500d547",
   "metadata": {},
   "outputs": [],
   "source": [
    "from sklearn.model_selection import train_test_split\n",
    "X = text_target.text\n",
    "y = text_target.target\n",
    "X_train, X_test, y_train, y_test = train_test_split(X,y,test_size = 0.2, random_state =101)"
   ]
  },
  {
   "cell_type": "markdown",
   "id": "77687f90",
   "metadata": {},
   "source": [
    "To transform the dataset, we will use TFIDF vectorizer instead of CountVectorizer. This is because unlike CV, TFIDF does not give equal weightage to all the words and simply return counts, instead it assigns a certain score to each word and returns a more accurate float value. "
   ]
  },
  {
   "cell_type": "code",
   "execution_count": 16,
   "id": "94a607cc",
   "metadata": {},
   "outputs": [],
   "source": [
    "from sklearn.feature_extraction.text import TfidfVectorizer\n",
    "tfidf = TfidfVectorizer(ngram_range=(1,2))\n",
    "tfidf.fit(X_train)\n",
    "\n",
    "X_train = tfidf.transform(X_train)\n",
    "X_test  = tfidf.transform(X_test)"
   ]
  },
  {
   "cell_type": "code",
   "execution_count": 21,
   "id": "dfc3c699",
   "metadata": {},
   "outputs": [],
   "source": [
    "from sklearn.metrics import confusion_matrix, classification_report\n",
    "def testModel(model):\n",
    "\n",
    "    y_pred = model.predict(X_test)\n",
    "    print(classification_report(y_test, y_pred))\n",
    "    \n",
    "    cm = confusion_matrix(y_test, y_pred)\n",
    "    categories = ['Negative','Positive']\n",
    "    groups = ['True Neg','False Pos', 'False Neg','True Pos']\n",
    "    groupsPerc = ['{0:.2%}'.format(value) for value in cm.flatten() / np.sum(cm)]\n",
    "    \n",
    "    labels = [f'{v1}\\n{v2}' for v1, v2 in zip(groups, groupsPerc)]\n",
    "    labels = np.asarray(labels).reshape(2,2)\n",
    "    \n",
    "    sns.heatmap(cm, annot = labels, \n",
    "                cmap = 'Blues', fmt = '',\n",
    "                xticklabels = categories, \n",
    "                yticklabels = categories)\n",
    "    \n",
    "    plt.xlabel(\"Predicted\", fontdict = {'size' : 12}, labelpad = 10)\n",
    "    plt.ylabel(\"Actual\" , fontdict = {'size' : 12}, labelpad = 10)\n",
    "    plt.title (\"Confusion Matrix\", fontdict = {'size' : 12}, pad = 20)"
   ]
  },
  {
   "cell_type": "code",
   "execution_count": 22,
   "id": "94d0954e",
   "metadata": {},
   "outputs": [
    {
     "name": "stdout",
     "output_type": "stream",
     "text": [
      "              precision    recall  f1-score   support\n",
      "\n",
      "           0       0.82      0.82      0.82    159763\n",
      "           1       0.82      0.82      0.82    160237\n",
      "\n",
      "    accuracy                           0.82    320000\n",
      "   macro avg       0.82      0.82      0.82    320000\n",
      "weighted avg       0.82      0.82      0.82    320000\n",
      "\n"
     ]
    },
    {
     "data": {
      "image/png": "[encoded data removed]",
      "text/plain": [
       "<Figure size 432x288 with 2 Axes>"
      ]
     },
     "metadata": {
      "needs_background": "light"
     },
     "output_type": "display_data"
    }
   ],
   "source": [
    "from sklearn.svm import LinearSVC\n",
    "svc = LinearSVC()\n",
    "svc.fit(X_train, y_train)\n",
    "testModel(svc)\n",
    "svc_y_pred = svc.predict(X_test)"
   ]
  },
  {
   "cell_type": "code",
   "execution_count": null,
   "id": "5881c9c7",
   "metadata": {},
   "outputs": [],
   "source": []
  }
 ],
 "metadata": {
  "kernelspec": {
   "display_name": "Python 3 (ipykernel)",
   "language": "python",
   "name": "python3"
  },
  "language_info": {
   "codemirror_mode": {
    "name": "ipython",
    "version": 3
   },
   "file_extension": ".py",
   "mimetype": "text/x-python",
   "name": "python",
   "nbconvert_exporter": "python",
   "pygments_lexer": "ipython3",
   "version": "3.9.13"
  }
 },
 "nbformat": 4,
 "nbformat_minor": 5
}
