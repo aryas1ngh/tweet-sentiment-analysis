{
 "cells": [
  {
   "cell_type": "code",
   "execution_count": 1,
   "metadata": {},
   "outputs": [],
   "source": [
    "from transformers import Trainer, TrainingArguments, TrainerCallback\n",
    "from model import get_model, TweetDataset\n",
    "from sklearn.metrics import precision_recall_fscore_support, accuracy_score\n",
    "import pickle, torch\n",
    "import sys,os\n",
    "sys.path.append('../')"
   ]
  },
  {
   "cell_type": "code",
   "execution_count": null,
   "metadata": {},
   "outputs": [],
   "source": [
    "import copy\n",
    "class CustomCallback(TrainerCallback):\n",
    "    \n",
    "    def __init__(self, trainer) -> None:\n",
    "        super().__init__()\n",
    "        self._trainer = trainer\n",
    "    \n",
    "    def on_epoch_end(self, args, state, control, **kwargs):\n",
    "        if control.should_evaluate:\n",
    "            control_copy = copy.deepcopy(control)\n",
    "            self._trainer.evaluate(eval_dataset=self._trainer.train_dataset, metric_key_prefix=\"train\")\n",
    "            return control_copy"
   ]
  },
  {
   "cell_type": "code",
   "execution_count": 6,
   "metadata": {},
   "outputs": [],
   "source": [
    "def compute_metrics(p):\n",
    "    preds = p.predictions.argmax(-1)\n",
    "    precision, recall, f1, _ = precision_recall_fscore_support(p.label_ids, preds, average='binary')\n",
    "    acc = accuracy_score(p.label_ids, preds)\n",
    "    return {\"accuracy\": acc, \"f1\": f1, \"precision\": precision, \"recall\": recall}\n",
    "\n",
    "\n",
    "def load_split_data(file_path):\n",
    "    with open(file_path, 'rb') as f:\n",
    "        return pickle.load(f)\n",
    "    \n",
    "def train():\n",
    "    current_dir = '/Users/arya/Desktop/mlds-proj/tweet-sentiment-analysis/src/'\n",
    "    file_path = os.path.join(current_dir, '..', 'data', 'processed', 'train_test_0.2_split.pkl')\n",
    "\n",
    "    print(f'[INFO]\\tExtracting data from {file_path}...')\n",
    "    train_texts, test_texts, train_labels, test_labels = load_split_data(file_path)\n",
    "    # print(test_texts, test_labels)\n",
    "    train_dataset = TweetDataset(train_texts, train_labels)\n",
    "    test_dataset = TweetDataset(test_texts, test_labels)\n",
    "\n",
    "\n",
    "    print('[INFO]\\tInitializing model...')\n",
    "    model = get_model()\n",
    "    training_args = TrainingArguments(\n",
    "        output_dir='../results/models',\n",
    "        num_train_epochs=2,\n",
    "        per_device_train_batch_size=8,\n",
    "        per_device_eval_batch_size=16,\n",
    "        warmup_steps=500,\n",
    "        weight_decay=0.01,\n",
    "        logging_dir='../results/logs',\n",
    "        logging_steps=10,\n",
    "        evaluation_strategy=\"epoch\"\n",
    "    )\n",
    "    \n",
    "    print('[INFO]\\tTraining model...')\n",
    "    trainer = Trainer(\n",
    "        model=model,\n",
    "        args=training_args,\n",
    "        train_dataset=train_dataset,\n",
    "        eval_dataset=test_dataset,\n",
    "        compute_metrics=compute_metrics,\n",
    "    )\n",
    "    trainer.add_callback(CustomCallback(trainer))\n",
    "    trainer.train()\n",
    "\n",
    "\n",
    "    print('[INFO]\\tSaving model...')\n",
    "    save_path = os.path.join(current_dir, '..', 'results', 'models', 'bert-finetuned')\n",
    "    trainer.save_model(save_path)\n",
    "    print(f'[INFO]\\tModel saved at {save_path}.')\n",
    "\n",
    "    print('[INFO]\\tEvaluating model...')\n",
    "    trainer.evaluate()\n",
    "    print('[INFO]\\tDone.')\n",
    "\n",
    "    return trainer"
   ]
  },
  {
   "cell_type": "code",
   "execution_count": 7,
   "metadata": {},
   "outputs": [
    {
     "name": "stdout",
     "output_type": "stream",
     "text": [
      "[INFO]\tExtracting data from /Users/arya/Desktop/mlds-proj/tweet-sentiment-analysis/src/../data/processed/train_test_0.2_split.pkl...\n",
      "[INFO]\tInitializing model...\n"
     ]
    },
    {
     "name": "stderr",
     "output_type": "stream",
     "text": [
      "Some weights of BertForSequenceClassification were not initialized from the model checkpoint at bert-base-uncased and are newly initialized: ['classifier.bias', 'classifier.weight']\n",
      "You should probably TRAIN this model on a down-stream task to be able to use it for predictions and inference.\n",
      "/Users/arya/miniconda3/lib/python3.11/site-packages/accelerate/accelerator.py:443: FutureWarning: Passing the following arguments to `Accelerator` is deprecated and will be removed in version 1.0 of Accelerate: dict_keys(['dispatch_batches']). Please pass an `accelerate.DataLoaderConfiguration` instead: \n",
      "dataloader_config = DataLoaderConfiguration(dispatch_batches=None)\n",
      "  warnings.warn(\n"
     ]
    },
    {
     "name": "stdout",
     "output_type": "stream",
     "text": [
      "[INFO]\tTraining model...\n"
     ]
    },
    {
     "data": {
      "application/vnd.jupyter.widget-view+json": {
       "model_id": "9a3b952dd51c429987beb6247c05af7e",
       "version_major": 2,
       "version_minor": 0
      },
      "text/plain": [
       "  0%|          | 0/400 [00:00<?, ?it/s]"
      ]
     },
     "metadata": {},
     "output_type": "display_data"
    },
    {
     "name": "stdout",
     "output_type": "stream",
     "text": [
      "{'loss': 0.7702, 'learning_rate': 1.0000000000000002e-06, 'epoch': 0.05}\n",
      "{'loss': 0.8009, 'learning_rate': 2.0000000000000003e-06, 'epoch': 0.1}\n",
      "{'loss': 0.6558, 'learning_rate': 3e-06, 'epoch': 0.15}\n",
      "{'loss': 0.6577, 'learning_rate': 4.000000000000001e-06, 'epoch': 0.2}\n",
      "{'loss': 0.7613, 'learning_rate': 5e-06, 'epoch': 0.25}\n",
      "{'loss': 0.6979, 'learning_rate': 6e-06, 'epoch': 0.3}\n",
      "{'loss': 0.6471, 'learning_rate': 7.000000000000001e-06, 'epoch': 0.35}\n",
      "{'loss': 0.6576, 'learning_rate': 8.000000000000001e-06, 'epoch': 0.4}\n",
      "{'loss': 0.6279, 'learning_rate': 9e-06, 'epoch': 0.45}\n",
      "{'loss': 0.6578, 'learning_rate': 1e-05, 'epoch': 0.5}\n",
      "{'loss': 0.6247, 'learning_rate': 1.1000000000000001e-05, 'epoch': 0.55}\n",
      "{'loss': 0.5954, 'learning_rate': 1.2e-05, 'epoch': 0.6}\n",
      "{'loss': 0.5465, 'learning_rate': 1.3000000000000001e-05, 'epoch': 0.65}\n",
      "{'loss': 0.6927, 'learning_rate': 1.4000000000000001e-05, 'epoch': 0.7}\n",
      "{'loss': 0.4886, 'learning_rate': 1.5e-05, 'epoch': 0.75}\n",
      "{'loss': 0.5337, 'learning_rate': 1.6000000000000003e-05, 'epoch': 0.8}\n",
      "{'loss': 0.6905, 'learning_rate': 1.7000000000000003e-05, 'epoch': 0.85}\n",
      "{'loss': 0.5247, 'learning_rate': 1.8e-05, 'epoch': 0.9}\n",
      "{'loss': 0.5865, 'learning_rate': 1.9e-05, 'epoch': 0.95}\n",
      "{'loss': 0.4675, 'learning_rate': 2e-05, 'epoch': 1.0}\n"
     ]
    },
    {
     "data": {
      "application/vnd.jupyter.widget-view+json": {
       "model_id": "afc7071eca164714967dd66df6f7ed34",
       "version_major": 2,
       "version_minor": 0
      },
      "text/plain": [
       "  0%|          | 0/100 [00:00<?, ?it/s]"
      ]
     },
     "metadata": {},
     "output_type": "display_data"
    },
    {
     "name": "stdout",
     "output_type": "stream",
     "text": [
      "{'train_loss': 0.4067331552505493, 'train_accuracy': 0.8275, 'train_f1': 0.8391608391608392, 'train_precision': 0.7834602829162133, 'train_recall': 0.903387703889586, 'train_runtime': 33.6653, 'train_samples_per_second': 47.527, 'train_steps_per_second': 2.97, 'epoch': 1.0}\n"
     ]
    },
    {
     "data": {
      "application/vnd.jupyter.widget-view+json": {
       "model_id": "e54fe2c357b84978bc977fdf90df3f5c",
       "version_major": 2,
       "version_minor": 0
      },
      "text/plain": [
       "  0%|          | 0/25 [00:00<?, ?it/s]"
      ]
     },
     "metadata": {},
     "output_type": "display_data"
    },
    {
     "name": "stdout",
     "output_type": "stream",
     "text": [
      "{'eval_loss': 0.48901206254959106, 'eval_accuracy': 0.765, 'eval_f1': 0.7911111111111111, 'eval_precision': 0.7206477732793523, 'eval_recall': 0.8768472906403941, 'eval_runtime': 8.0668, 'eval_samples_per_second': 49.586, 'eval_steps_per_second': 3.099, 'epoch': 1.0}\n",
      "{'loss': 0.3877, 'learning_rate': 2.1e-05, 'epoch': 1.05}\n",
      "{'loss': 0.4538, 'learning_rate': 2.2000000000000003e-05, 'epoch': 1.1}\n",
      "{'loss': 0.4897, 'learning_rate': 2.3000000000000003e-05, 'epoch': 1.15}\n",
      "{'loss': 0.3758, 'learning_rate': 2.4e-05, 'epoch': 1.2}\n",
      "{'loss': 0.3948, 'learning_rate': 2.5e-05, 'epoch': 1.25}\n",
      "{'loss': 0.436, 'learning_rate': 2.6000000000000002e-05, 'epoch': 1.3}\n",
      "{'loss': 0.3807, 'learning_rate': 2.7000000000000002e-05, 'epoch': 1.35}\n",
      "{'loss': 0.4661, 'learning_rate': 2.8000000000000003e-05, 'epoch': 1.4}\n",
      "{'loss': 0.3628, 'learning_rate': 2.9e-05, 'epoch': 1.45}\n",
      "{'loss': 0.3779, 'learning_rate': 3e-05, 'epoch': 1.5}\n",
      "{'loss': 0.5561, 'learning_rate': 3.1e-05, 'epoch': 1.55}\n",
      "{'loss': 0.5472, 'learning_rate': 3.2000000000000005e-05, 'epoch': 1.6}\n",
      "{'loss': 0.45, 'learning_rate': 3.3e-05, 'epoch': 1.65}\n",
      "{'loss': 0.3502, 'learning_rate': 3.4000000000000007e-05, 'epoch': 1.7}\n",
      "{'loss': 0.3474, 'learning_rate': 3.5e-05, 'epoch': 1.75}\n",
      "{'loss': 0.4363, 'learning_rate': 3.6e-05, 'epoch': 1.8}\n",
      "{'loss': 0.5598, 'learning_rate': 3.7e-05, 'epoch': 1.85}\n",
      "{'loss': 0.42, 'learning_rate': 3.8e-05, 'epoch': 1.9}\n",
      "{'loss': 0.4037, 'learning_rate': 3.9000000000000006e-05, 'epoch': 1.95}\n",
      "{'loss': 0.6729, 'learning_rate': 4e-05, 'epoch': 2.0}\n"
     ]
    },
    {
     "data": {
      "application/vnd.jupyter.widget-view+json": {
       "model_id": "99d632d7079a416d9b390c7590144a65",
       "version_major": 2,
       "version_minor": 0
      },
      "text/plain": [
       "  0%|          | 0/100 [00:00<?, ?it/s]"
      ]
     },
     "metadata": {},
     "output_type": "display_data"
    },
    {
     "name": "stdout",
     "output_type": "stream",
     "text": [
      "{'train_loss': 0.23620183765888214, 'train_accuracy': 0.913125, 'train_f1': 0.9178001182732111, 'train_precision': 0.8680089485458613, 'train_recall': 0.973651191969887, 'train_runtime': 24.7713, 'train_samples_per_second': 64.591, 'train_steps_per_second': 4.037, 'epoch': 2.0}\n"
     ]
    },
    {
     "data": {
      "application/vnd.jupyter.widget-view+json": {
       "model_id": "d659c76f13194a5197c14d05ec4cab11",
       "version_major": 2,
       "version_minor": 0
      },
      "text/plain": [
       "  0%|          | 0/25 [00:00<?, ?it/s]"
      ]
     },
     "metadata": {},
     "output_type": "display_data"
    },
    {
     "name": "stdout",
     "output_type": "stream",
     "text": [
      "{'eval_loss': 0.5221846699714661, 'eval_accuracy': 0.7675, 'eval_f1': 0.7973856209150327, 'eval_precision': 0.71484375, 'eval_recall': 0.9014778325123153, 'eval_runtime': 7.397, 'eval_samples_per_second': 54.076, 'eval_steps_per_second': 3.38, 'epoch': 2.0}\n",
      "{'train_runtime': 308.4969, 'train_samples_per_second': 10.373, 'train_steps_per_second': 1.297, 'train_loss': 0.538849510550499, 'epoch': 2.0}\n",
      "[INFO]\tSaving model...\n",
      "[INFO]\tModel saved at /Users/arya/Desktop/mlds-proj/tweet-sentiment-analysis/src/../results/models/bert-finetuned.\n",
      "[INFO]\tEvaluating model...\n"
     ]
    },
    {
     "data": {
      "application/vnd.jupyter.widget-view+json": {
       "model_id": "b4cc137c0dd54431b14d7a467d5e140c",
       "version_major": 2,
       "version_minor": 0
      },
      "text/plain": [
       "  0%|          | 0/25 [00:00<?, ?it/s]"
      ]
     },
     "metadata": {},
     "output_type": "display_data"
    },
    {
     "name": "stdout",
     "output_type": "stream",
     "text": [
      "[INFO]\tDone.\n"
     ]
    }
   ],
   "source": [
    "\n",
    "trainer = train()"
   ]
  },
  {
   "cell_type": "code",
   "execution_count": 8,
   "metadata": {},
   "outputs": [
    {
     "data": {
      "text/plain": [
       "{10: {'loss': 0.7702,\n",
       "  'learning_rate': 1.0000000000000002e-06,\n",
       "  'epoch': 0.05,\n",
       "  'step': 10},\n",
       " 20: {'loss': 0.8009,\n",
       "  'learning_rate': 2.0000000000000003e-06,\n",
       "  'epoch': 0.1,\n",
       "  'step': 20},\n",
       " 30: {'loss': 0.6558, 'learning_rate': 3e-06, 'epoch': 0.15, 'step': 30},\n",
       " 40: {'loss': 0.6577,\n",
       "  'learning_rate': 4.000000000000001e-06,\n",
       "  'epoch': 0.2,\n",
       "  'step': 40},\n",
       " 50: {'loss': 0.7613, 'learning_rate': 5e-06, 'epoch': 0.25, 'step': 50},\n",
       " 60: {'loss': 0.6979, 'learning_rate': 6e-06, 'epoch': 0.3, 'step': 60},\n",
       " 70: {'loss': 0.6471,\n",
       "  'learning_rate': 7.000000000000001e-06,\n",
       "  'epoch': 0.35,\n",
       "  'step': 70},\n",
       " 80: {'loss': 0.6576,\n",
       "  'learning_rate': 8.000000000000001e-06,\n",
       "  'epoch': 0.4,\n",
       "  'step': 80},\n",
       " 90: {'loss': 0.6279, 'learning_rate': 9e-06, 'epoch': 0.45, 'step': 90},\n",
       " 100: {'loss': 0.6578, 'learning_rate': 1e-05, 'epoch': 0.5, 'step': 100},\n",
       " 110: {'loss': 0.6247,\n",
       "  'learning_rate': 1.1000000000000001e-05,\n",
       "  'epoch': 0.55,\n",
       "  'step': 110},\n",
       " 120: {'loss': 0.5954, 'learning_rate': 1.2e-05, 'epoch': 0.6, 'step': 120},\n",
       " 130: {'loss': 0.5465,\n",
       "  'learning_rate': 1.3000000000000001e-05,\n",
       "  'epoch': 0.65,\n",
       "  'step': 130},\n",
       " 140: {'loss': 0.6927,\n",
       "  'learning_rate': 1.4000000000000001e-05,\n",
       "  'epoch': 0.7,\n",
       "  'step': 140},\n",
       " 150: {'loss': 0.4886, 'learning_rate': 1.5e-05, 'epoch': 0.75, 'step': 150},\n",
       " 160: {'loss': 0.5337,\n",
       "  'learning_rate': 1.6000000000000003e-05,\n",
       "  'epoch': 0.8,\n",
       "  'step': 160},\n",
       " 170: {'loss': 0.6905,\n",
       "  'learning_rate': 1.7000000000000003e-05,\n",
       "  'epoch': 0.85,\n",
       "  'step': 170},\n",
       " 180: {'loss': 0.5247, 'learning_rate': 1.8e-05, 'epoch': 0.9, 'step': 180},\n",
       " 190: {'loss': 0.5865, 'learning_rate': 1.9e-05, 'epoch': 0.95, 'step': 190},\n",
       " 200: {'eval_loss': 0.48901206254959106,\n",
       "  'eval_accuracy': 0.765,\n",
       "  'eval_f1': 0.7911111111111111,\n",
       "  'eval_precision': 0.7206477732793523,\n",
       "  'eval_recall': 0.8768472906403941,\n",
       "  'eval_runtime': 8.0668,\n",
       "  'eval_samples_per_second': 49.586,\n",
       "  'eval_steps_per_second': 3.099,\n",
       "  'epoch': 1.0,\n",
       "  'step': 200},\n",
       " 210: {'loss': 0.3877, 'learning_rate': 2.1e-05, 'epoch': 1.05, 'step': 210},\n",
       " 220: {'loss': 0.4538,\n",
       "  'learning_rate': 2.2000000000000003e-05,\n",
       "  'epoch': 1.1,\n",
       "  'step': 220},\n",
       " 230: {'loss': 0.4897,\n",
       "  'learning_rate': 2.3000000000000003e-05,\n",
       "  'epoch': 1.15,\n",
       "  'step': 230},\n",
       " 240: {'loss': 0.3758, 'learning_rate': 2.4e-05, 'epoch': 1.2, 'step': 240},\n",
       " 250: {'loss': 0.3948, 'learning_rate': 2.5e-05, 'epoch': 1.25, 'step': 250},\n",
       " 260: {'loss': 0.436,\n",
       "  'learning_rate': 2.6000000000000002e-05,\n",
       "  'epoch': 1.3,\n",
       "  'step': 260},\n",
       " 270: {'loss': 0.3807,\n",
       "  'learning_rate': 2.7000000000000002e-05,\n",
       "  'epoch': 1.35,\n",
       "  'step': 270},\n",
       " 280: {'loss': 0.4661,\n",
       "  'learning_rate': 2.8000000000000003e-05,\n",
       "  'epoch': 1.4,\n",
       "  'step': 280},\n",
       " 290: {'loss': 0.3628, 'learning_rate': 2.9e-05, 'epoch': 1.45, 'step': 290},\n",
       " 300: {'loss': 0.3779, 'learning_rate': 3e-05, 'epoch': 1.5, 'step': 300},\n",
       " 310: {'loss': 0.5561, 'learning_rate': 3.1e-05, 'epoch': 1.55, 'step': 310},\n",
       " 320: {'loss': 0.5472,\n",
       "  'learning_rate': 3.2000000000000005e-05,\n",
       "  'epoch': 1.6,\n",
       "  'step': 320},\n",
       " 330: {'loss': 0.45, 'learning_rate': 3.3e-05, 'epoch': 1.65, 'step': 330},\n",
       " 340: {'loss': 0.3502,\n",
       "  'learning_rate': 3.4000000000000007e-05,\n",
       "  'epoch': 1.7,\n",
       "  'step': 340},\n",
       " 350: {'loss': 0.3474, 'learning_rate': 3.5e-05, 'epoch': 1.75, 'step': 350},\n",
       " 360: {'loss': 0.4363, 'learning_rate': 3.6e-05, 'epoch': 1.8, 'step': 360},\n",
       " 370: {'loss': 0.5598, 'learning_rate': 3.7e-05, 'epoch': 1.85, 'step': 370},\n",
       " 380: {'loss': 0.42, 'learning_rate': 3.8e-05, 'epoch': 1.9, 'step': 380},\n",
       " 390: {'loss': 0.4037,\n",
       "  'learning_rate': 3.9000000000000006e-05,\n",
       "  'epoch': 1.95,\n",
       "  'step': 390},\n",
       " 400: {'eval_loss': 0.5221846699714661,\n",
       "  'eval_accuracy': 0.7675,\n",
       "  'eval_f1': 0.7973856209150327,\n",
       "  'eval_precision': 0.71484375,\n",
       "  'eval_recall': 0.9014778325123153,\n",
       "  'eval_runtime': 7.8378,\n",
       "  'eval_samples_per_second': 51.035,\n",
       "  'eval_steps_per_second': 3.19,\n",
       "  'epoch': 2.0,\n",
       "  'step': 400}}"
      ]
     },
     "execution_count": 8,
     "metadata": {},
     "output_type": "execute_result"
    }
   ],
   "source": [
    "train_dict={}\n",
    "\n",
    "for i in trainer.state.log_history:\n",
    "    train_dict[i['step']]=i\n",
    "\n",
    "train_dict"
   ]
  },
  {
   "cell_type": "code",
   "execution_count": 10,
   "metadata": {},
   "outputs": [],
   "source": [
    "# testing\n",
    "torch.save(train_dict, os.path.join('.', '..', 'results', 'logs', 'train_loss.pt'))"
   ]
  },
  {
   "cell_type": "code",
   "execution_count": null,
   "metadata": {},
   "outputs": [],
   "source": []
  }
 ],
 "metadata": {
  "kernelspec": {
   "display_name": "base",
   "language": "python",
   "name": "python3"
  },
  "language_info": {
   "codemirror_mode": {
    "name": "ipython",
    "version": 3
   },
   "file_extension": ".py",
   "mimetype": "text/x-python",
   "name": "python",
   "nbconvert_exporter": "python",
   "pygments_lexer": "ipython3",
   "version": "3.11.5"
  }
 },
 "nbformat": 4,
 "nbformat_minor": 2
}
